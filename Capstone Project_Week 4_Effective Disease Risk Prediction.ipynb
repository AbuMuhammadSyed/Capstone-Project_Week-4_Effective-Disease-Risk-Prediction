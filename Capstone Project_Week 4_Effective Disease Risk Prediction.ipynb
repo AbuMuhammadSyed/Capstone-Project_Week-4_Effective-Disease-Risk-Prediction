{
 "cells": [
  {
   "cell_type": "markdown",
   "metadata": {},
   "source": [
    "<h1>Capstone Project_Week 4_Effective Disease Risk Prediction</h1>\n",
    "<h3>Using disease dataset available in UCI(University of California,Irvine) ML(Machine Learning) Repository</h3>"
   ]
  },
  {
   "cell_type": "markdown",
   "metadata": {},
   "source": [
    "<H3> I INTRODUCTION </H3>"
   ]
  },
  {
   "cell_type": "markdown",
   "metadata": {},
   "source": [
    "#  <H4> 1. DESCRIPTION OF THE PROBLEM AND DISCUSSION OF THE BACKGROUND </H4>"
   ]
  },
  {
   "cell_type": "markdown",
   "metadata": {},
   "source": [
    "Machine Learning (ML) is very useful in different fields and I choose the healthcare usecase. Here I will use the ML algorithms to improve the prediction accuracy of the disease risk. From published research articles it is confirmed that the 12% of error remains in the diagnosis of the any diseases by the medical practicioners. So here I am applying ML algorithms on thyroid disease dataset, which is caused due to deficiency of iodine leads to cerebral defects. Thyroid gland which is like butterfly shape near base of the neck. In United States alone 20 miliion people are suffering from some kind of thyroid disorder. Womwn are more prone to thyroid disoreder 5 to  8 times when compared to men according statistical data. Thyroid gland controls the metabolism of the body, energy levels and including the heart rate.Disorder leads to physical and mental retardation of the body,miscarriages in pregnancy etc. Most common disorder is \"Hypothyrodism\" causes due to lesser thyroid homone levels and \"Hyperthyrodism due to extra release of the hormone, and recently in US thyroid cancer spreading rapidly. In next 5 years the National Cancer Institute estimates there will 40% rise in thyroid cancer.Also, it stated that 60% of the people go undiagnosed. So early and effective prediction of this can cure and help many lives."
   ]
  },
  {
   "cell_type": "markdown",
   "metadata": {},
   "source": [
    "#  <H4> 2. DESCRIPTION OF THE DATA AND HOW IT WILL BE USED TO SOLVE THE PROBLEM </H4>"
   ]
  },
  {
   "cell_type": "markdown",
   "metadata": {},
   "source": [
    "A. DATASET DESCRIPTION:\n",
    "\n",
    "The thyroid disease dataset available in the UCI ML repository provided by Ross Quinlan from the Garavan Institute in Sydney, Australia. \n",
    "\n",
    "The dataset consists of 3772 subjects/rows/records and the number of columns/features are 29, awith the last column as the prediction coulmn.\n",
    "\n",
    "In the 29 features, 22 are categorical and 7 are numerical. \n",
    "\n",
    "There are 11 clinical attributes that are “age”, “sex”, “pregnancy”, “goiter”, “tumor”, “hypopituitarism”, “use of thyroid” or “antithyroid medication”, “history of thyroid surgery”, “complaint of malaise”, “psychological symptoms”. \n",
    "\n",
    "And, 6 are test results:\n",
    "\n",
    "“TSH”, “T3”, “TT4”, “T4U”, “free thyroxine index”, and “TBG” are available in the dataset. \n",
    "\n",
    "It is a highly imbalanced dataset contains  4 classes with several  missing values. \n",
    "\n",
    "In the thyroid dataset, out of the 3772 records/instances, 3481 (92.3%) are negative i.e., normal, \n",
    "and 194 (5.1%) are compensated-hypothyroid i.e., hyperthyroid, \n",
    "95(2.5%) primary-hypothyroid category i.e., hypothyroid, \n",
    "and 2 (0.05%) secondary hypothyroid.\n",
    "\n",
    "B. SOLUTION:\n",
    "\n",
    "Machine Learning (ML) has enhanced the diagnostic capabilities in the medical field and reformed the identification and detection of endemic diseases and cancers since the diagnosis may contain flaws and may not be precise due to the presence of enormous medical information, even for a medical professional. \n",
    "\n",
    "In such crucial situvations, ML tools and techniques usage is growing, and is very useful in assisting in decision making and problem solving functions, and helping medical practitioners decision-making and reduce the error rate, and improve the patient care. "
   ]
  },
  {
   "cell_type": "code",
   "execution_count": null,
   "metadata": {},
   "outputs": [],
   "source": []
  }
 ],
 "metadata": {
  "kernelspec": {
   "display_name": "Python",
   "language": "python",
   "name": "conda-env-python-py"
  },
  "language_info": {
   "codemirror_mode": {
    "name": "ipython",
    "version": 3
   },
   "file_extension": ".py",
   "mimetype": "text/x-python",
   "name": "python",
   "nbconvert_exporter": "python",
   "pygments_lexer": "ipython3",
   "version": "3.6.11"
  }
 },
 "nbformat": 4,
 "nbformat_minor": 4
}
